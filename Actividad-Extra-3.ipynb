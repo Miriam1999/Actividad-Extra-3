{
 "cells": [
  {
   "cell_type": "markdown",
   "metadata": {},
   "source": [
    "**Ejercicio 1**."
   ]
  },
  {
   "cell_type": "code",
   "execution_count": 3,
   "metadata": {},
   "outputs": [
    {
     "name": "stdout",
     "output_type": "stream",
     "text": [
      "[[34587, 'Learning Python, Mark Lutz', 4, 40.95], [98762, 'Programming Python', 5, 56.8], [77225, 'Head First Python, Paul Barry', 3, 32.95], [88112, 'Einfuhrung in Python3, Bernd Klein', 3, 24.99]]\n"
     ]
    }
   ],
   "source": [
    "lista1=[[34587,\"Learning Python, Mark Lutz\",4,40.95],\n",
    "       [98762,\"Programming Python\",5,56.80],\n",
    "       [77225,\"Head First Python, Paul Barry\",3,32.95],\n",
    "       [88112,\"Einfuhrung in Python3, Bernd Klein\",3,24.99]]\n",
    "print(lista1)"
   ]
  },
  {
   "cell_type": "code",
   "execution_count": 12,
   "metadata": {},
   "outputs": [
    {
     "name": "stdout",
     "output_type": "stream",
     "text": [
      "[('34587', '163.8'), ('98762', '284.0'), ('77225', '108.85000000000001'), ('88112', '84.97')]\n"
     ]
    }
   ],
   "source": [
    "resultado1=list(map(lambda i: (str(i[0]),str(i[3]*i[2]+10)) if i[3]*i[2]<100 else (str(i[0]),str(i[3]*i[2])),lista1))\n",
    "print(resultado1)"
   ]
  },
  {
   "cell_type": "markdown",
   "metadata": {},
   "source": [
    "**Ejercicio 2**."
   ]
  },
  {
   "cell_type": "code",
   "execution_count": 11,
   "metadata": {},
   "outputs": [
    {
     "name": "stdout",
     "output_type": "stream",
     "text": [
      "[[1, ('5464', 4, 9.99), ('8274', 18, 12.99), ('9744', 9, 44.95)], [2, ('5464', 9, 9.99), ('9744', 9, 44.95)], [3, ('5464', 9, 9.99), ('88112', 11, 24.99)], [4, ('8732', 7, 11.99), ('7733', 11, 18.99), ('88112', 5, 39.95)]]\n"
     ]
    }
   ],
   "source": [
    "lista2=[[1,(\"5464\",4,9.99),(\"8274\",18,12.99),(\"9744\",9,44.95)],\n",
    "        [2,(\"5464\",9,9.99),(\"9744\",9,44.95)],\n",
    "        [3,(\"5464\",9,9.99),(\"88112\",11,24.99)],\n",
    "        [4,(\"8732\",7,11.99),(\"7733\",11,18.99),(\"88112\",5,39.95)]]\n",
    "print(lista2)"
   ]
  },
  {
   "cell_type": "code",
   "execution_count": 26,
   "metadata": {},
   "outputs": [
    {
     "name": "stdout",
     "output_type": "stream",
     "text": [
      "[('1', '678.3299999999999'), ('2', '494.46000000000004'), ('3', '364.79999999999995'), ('4', '492.57')]\n"
     ]
    }
   ],
   "source": [
    "resultado2=list(map(lambda i: (str(i[0]),str(i[1][1]*i[1][2]+i[2][1]*i[2][2]+i[3][1]*i[3][2])) if len(i)==4 else\\\n",
    "                   (str(i[0]),str(i[1][1]*i[1][2]+i[2][1]*i[2][2])),lista2))\n",
    "print(resultado2)"
   ]
  },
  {
   "cell_type": "markdown",
   "metadata": {},
   "source": [
    "**Nota**: El ejercicio 2 no supe cómo hacerlo con la función reduce. Estoy al tanto de que el código sólo funciona con ordenes de 2 ó 3 libros diferentes."
   ]
  },
  {
   "cell_type": "markdown",
   "metadata": {},
   "source": [
    "<script>\n",
    "  $(document).ready(function(){\n",
    "    $('div.prompt').hide();\n",
    "    $('div.back-to-top').hide();\n",
    "    $('nav#menubar').hide();\n",
    "    $('.breadcrumb').hide();\n",
    "    $('.hidden-print').hide();\n",
    "  });\n",
    "</script>\n",
    "\n",
    "<footer id=\"attribution\" style=\"float:right; color:#808080; background:#fff;\">\n",
    "Created with Jupyter by Xiuhcoatl\n",
    "</footer>"
   ]
  }
 ],
 "metadata": {
  "kernelspec": {
   "display_name": "Python 3",
   "language": "python",
   "name": "python3"
  },
  "language_info": {
   "codemirror_mode": {
    "name": "ipython",
    "version": 3
   },
   "file_extension": ".py",
   "mimetype": "text/x-python",
   "name": "python",
   "nbconvert_exporter": "python",
   "pygments_lexer": "ipython3",
   "version": "3.7.3"
  }
 },
 "nbformat": 4,
 "nbformat_minor": 2
}
